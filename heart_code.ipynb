{
 "cells": [
  {
   "cell_type": "markdown",
   "metadata": {},
   "source": [
    "# TriageAssist"
   ]
  },
  {
   "cell_type": "code",
   "execution_count": 1,
   "metadata": {},
   "outputs": [],
   "source": [
    "import pandas as pd\n",
    "\n",
    "# import warnings filter\n",
    "from warnings import simplefilter\n",
    "# ignore all future warnings\n",
    "simplefilter(action='ignore', category = FutureWarning)\n",
    "# import warnings filter\n",
    "from warnings import simplefilter\n",
    "# ignore all future warnings\n",
    "simplefilter(action='ignore', category = FutureWarning)"
   ]
  },
  {
   "cell_type": "markdown",
   "metadata": {},
   "source": [
    "## Load data"
   ]
  },
  {
   "cell_type": "code",
   "execution_count": 2,
   "metadata": {},
   "outputs": [],
   "source": [
    "# data cleaning\n",
    "df = pd.read_csv('cleveland.csv', header = None)\n",
    "\n",
    "df.columns = ['age', 'sex', 'cp', 'trestbps', 'chol',\n",
    "              'fbs', 'restecg', 'thalach', 'exang', \n",
    "              'oldpeak', 'slope', 'ca', 'thal', 'target']\n",
    "\n",
    "### 1 = male, 0 = female\n",
    "df.isnull().sum()\n",
    "\n",
    "df['target'] = df.target.map({0: 0, 1: 1, 2: 1, 3: 1, 4: 1})\n",
    "df['sex'] = df.sex.map({0: 'female', 1: 'male'})\n",
    "df['thal'] = df.thal.fillna(df.thal.mean())\n",
    "df['ca'] = df.ca.fillna(df.ca.mean())"
   ]
  },
  {
   "cell_type": "code",
   "execution_count": 4,
   "metadata": {},
   "outputs": [
    {
     "name": "stdout",
     "output_type": "stream",
     "text": [
      "   age     sex  cp  trestbps  chol  fbs  restecg  thalach  exang  oldpeak  \\\n",
      "0   63    male   1       145   233    1        2      150      0      2.3   \n",
      "1   67    male   4       160   286    0        2      108      1      1.5   \n",
      "2   67    male   4       120   229    0        2      129      1      2.6   \n",
      "3   37    male   3       130   250    0        0      187      0      3.5   \n",
      "4   41  female   2       130   204    0        2      172      0      1.4   \n",
      "\n",
      "   slope   ca  thal  target  \n",
      "0      3  0.0   6.0       0  \n",
      "1      2  3.0   3.0       1  \n",
      "2      2  2.0   7.0       1  \n",
      "3      3  0.0   3.0       0  \n",
      "4      1  0.0   3.0       0  \n"
     ]
    }
   ],
   "source": [
    "# print 5 examples\n",
    "print(df[:5])"
   ]
  }
 ],
 "metadata": {
  "kernelspec": {
   "display_name": "Python 3",
   "language": "python",
   "name": "python3"
  },
  "language_info": {
   "codemirror_mode": {
    "name": "ipython",
    "version": 3
   },
   "file_extension": ".py",
   "mimetype": "text/x-python",
   "name": "python",
   "nbconvert_exporter": "python",
   "pygments_lexer": "ipython3",
   "version": "3.8.10"
  }
 },
 "nbformat": 4,
 "nbformat_minor": 2
}
